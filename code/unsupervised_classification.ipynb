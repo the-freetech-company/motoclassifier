{
 "cells": [
  {
   "cell_type": "code",
   "execution_count": null,
   "metadata": {},
   "outputs": [],
   "source": [
    "import tensorflow as tf\n",
    "from keras.applications import VGG16, ResNet50\n",
    "from keras.models import Model\n",
    "from sklearn.cluster import KMeans\n",
    "import numpy as np\n",
    "import matplotlib.pyplot as plt\n"
   ]
  },
  {
   "cell_type": "code",
   "execution_count": null,
   "metadata": {},
   "outputs": [],
   "source": [
    "data_dir='./data'\n",
    "batch_size = 32\n",
    "image_size = (224, 224)\n",
    "validation_split = 0.25\n",
    "inputs = tf.keras.Input(shape=(224, 224, 3))\n",
    "print(tf.__version__)\n",
    "print(tf.config.list_physical_devices('GPU'))"
   ]
  },
  {
   "cell_type": "code",
   "execution_count": null,
   "metadata": {},
   "outputs": [],
   "source": [
    "# Load the ResNet50 model with ImageNet weights\n",
    "model = ResNet50(weights='imagenet', include_top=False, input_shape=(224,224,3))\n",
    "\n",
    "# Create the feature extractor\n",
    "feature_extractor = Model(inputs=model.input, outputs=model.layers[-1].output)\n",
    "\n",
    "\n",
    "# Load your images\n",
    "train_ds = tf.keras.preprocessing.image_dataset_from_directory(\n",
    "data_dir,\n",
    "validation_split=validation_split,\n",
    "subset=\"training\",\n",
    "seed=42,\n",
    "labels=\"inferred\",\n",
    "label_mode=None,\n",
    "image_size=image_size,\n",
    "batch_size=batch_size)\n",
    "\n",
    "features_train = feature_extractor.predict(train_ds)\n",
    "\n",
    "features_train_flattened = np.reshape(features_train, (features_train.shape[0], -1))\n",
    "\n",
    "\n",
    "SSE = []\n",
    "\n",
    "# Loop over different numbers of clusters\n",
    "for cluster in range(1, 20):\n",
    "    kmeans = KMeans(n_clusters=cluster, random_state=0).fit(features_train_flattened)\n",
    "    SSE.append(kmeans.inertia_)\n",
    "\n",
    "# kmeans = KMeans(n_clusters=10)\n",
    "# kmeans.fit(features_train_flattened)"
   ]
  },
  {
   "cell_type": "code",
   "execution_count": null,
   "metadata": {},
   "outputs": [],
   "source": [
    "# Determine the elbow in the plot\n",
    "\n",
    "# Plot the sum of squared distances\n",
    "plt.style.use(\"ggplot\")\n",
    "plt.figure(figsize=(8, 6))\n",
    "plt.plot(range(1, 20), SSE)\n",
    "plt.xlabel('Number of clusters')\n",
    "plt.ylabel('Sum of squared distances')\n",
    "plt.show()\n",
    "print(SSE)\n",
    "\n",
    "\n",
    "x = range(1, len(SSE)+1)\n",
    "\n",
    "from kneed import KneeLocator\n",
    "kn = KneeLocator(x, SSE, S=1.0, curve='convex', direction='decreasing')\n",
    "print(kn.elbow)\n",
    "kn.plot_knee()\n",
    "kn.plot_knee_normalized()\n"
   ]
  },
  {
   "cell_type": "code",
   "execution_count": null,
   "metadata": {},
   "outputs": [],
   "source": [
    "kmeans.fit(features_train_flattened)"
   ]
  },
  {
   "cell_type": "code",
   "execution_count": null,
   "metadata": {},
   "outputs": [],
   "source": [
    "# Get the cluster assignments for each data point\n",
    "cluster_assignments = kmeans.labels_\n",
    "\n",
    "# Count the number of data points in each class\n",
    "class_counts = np.zeros(kmeans.n_clusters)\n",
    "for i in range(kmeans.n_clusters):\n",
    "  class_counts[i] = np.sum(cluster_assignments == i)\n",
    "\n",
    "# Plot the bar plot\n",
    "plt.bar(range(kmeans.n_clusters), class_counts)\n",
    "plt.title('Number of Data Points in Each Class')\n",
    "plt.xlabel('Class Label')\n",
    "plt.ylabel('Number of Data Points')\n",
    "plt.show()"
   ]
  }
 ],
 "metadata": {
  "kernelspec": {
   "display_name": "Python 3",
   "language": "python",
   "name": "python3"
  },
  "language_info": {
   "codemirror_mode": {
    "name": "ipython",
    "version": 3
   },
   "file_extension": ".py",
   "mimetype": "text/x-python",
   "name": "python",
   "nbconvert_exporter": "python",
   "pygments_lexer": "ipython3",
   "version": "3.10.5"
  },
  "orig_nbformat": 4,
  "vscode": {
   "interpreter": {
    "hash": "5ecc031d86696929f30629648f7816eb3c79c248c1db74fa715074cbd38220b8"
   }
  }
 },
 "nbformat": 4,
 "nbformat_minor": 2
}
